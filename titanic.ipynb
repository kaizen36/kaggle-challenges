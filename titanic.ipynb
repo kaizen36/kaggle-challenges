{
  "cells": [
    {
      "metadata": {
        "_uuid": "827f9ee8133e389cfc365fd86cb204b748ceb447",
        "trusted": true
      },
      "cell_type": "code",
      "source": "import pandas as pd\nimport numpy as np\nimport sklearn \nimport xgboost",
      "execution_count": null,
      "outputs": []
    },
    {
      "metadata": {
        "trusted": true,
        "_uuid": "6f1e826ba425f3ef17715bfda3b4438ad4a3414b"
      },
      "cell_type": "code",
      "source": "import matplotlib.pyplot as plt\nimport seaborn as sns\nsns.set(style=\"whitegrid\", color_codes=True)",
      "execution_count": null,
      "outputs": []
    },
    {
      "metadata": {
        "_uuid": "f580b3e9ca624be0419307edfbdab4755f313e0e"
      },
      "cell_type": "markdown",
      "source": "# Load the data"
    },
    {
      "metadata": {
        "trusted": true,
        "_uuid": "9d48b6ee98e5eb3ba10111615e04f85782920dbe"
      },
      "cell_type": "code",
      "source": "data = pd.read_csv('../input/train.csv')",
      "execution_count": null,
      "outputs": []
    },
    {
      "metadata": {
        "_uuid": "30ead266d05ddcae8f8a670fa50aa2a1553fb8b0"
      },
      "cell_type": "markdown",
      "source": "**Dataset Description**\n\nVariable | Definition | Key \n------|----|----\nsurvival | Survival | 0 = No, 1 = Yes \npclass | Ticket class | 1 = 1st, 2 = 2nd, 3 = 3rd \nsex | Sex |\nage |Age in years |\nsibsp | # of siblings / spouses aboard the Titanic | \nparch | # of parents / children aboard the Titanic | \nticket | Ticket number |\nfare | Passenger fare | \ncabin | Cabin number |\nembarked | Port of Embarkation | C = Cherbourg, Q = Queenstown, S = Southampton"
    },
    {
      "metadata": {
        "trusted": true,
        "_uuid": "0ad53bbe0f5d5ceaae0eae9f279b68fb7eee03ac"
      },
      "cell_type": "code",
      "source": "print('(rows, columns):', data.shape)\ndata.head()",
      "execution_count": null,
      "outputs": []
    },
    {
      "metadata": {
        "_uuid": "05668ac58d558d17f64b9bbc10361d6666cea515"
      },
      "cell_type": "markdown",
      "source": "Describe continuous variables"
    },
    {
      "metadata": {
        "trusted": true,
        "_uuid": "c33867624bd7900a3de84ec0bcce25226a8fc7d4",
        "_kg_hide-input": false,
        "_kg_hide-output": false
      },
      "cell_type": "code",
      "source": "data.describe()",
      "execution_count": null,
      "outputs": []
    },
    {
      "metadata": {
        "_uuid": "fbe9523069b470589b286435cb3f4b3f707fdc45"
      },
      "cell_type": "markdown",
      "source": "Describe categorical variables:"
    },
    {
      "metadata": {
        "trusted": true,
        "_uuid": "a154a59e0bb0d1de81597c385b987a09482ef5f4"
      },
      "cell_type": "code",
      "source": "data[['Pclass','Sex','SibSp','Parch','Ticket','Fare','Cabin','Embarked',]].astype('category').describe()",
      "execution_count": null,
      "outputs": []
    },
    {
      "metadata": {
        "_uuid": "7655f64f27738223f362661e34af4e30ab389572"
      },
      "cell_type": "markdown",
      "source": "Distribution of categorical variables (with fewer than 10 categories)"
    },
    {
      "metadata": {
        "trusted": true,
        "_uuid": "624a161e09ef0d5d54838c96cfa8ae294f76bbf4"
      },
      "cell_type": "code",
      "source": "categorical_data = data[data.columns[data.apply(pd.Series.nunique) < 10]]\nfor col in categorical_data:\n    print(col, '\\t', dict(categorical_data[col].value_counts()))",
      "execution_count": null,
      "outputs": []
    },
    {
      "metadata": {
        "trusted": true,
        "_uuid": "3f2bb6556623c931572a87d398bef6c60c6bae0b"
      },
      "cell_type": "code",
      "source": "print('Number of empty fields per feature')\ndata.isnull().sum(axis=0)",
      "execution_count": null,
      "outputs": []
    },
    {
      "metadata": {
        "_uuid": "b2d4ea5e06e5fed47cb12784e4bdda66592930c6"
      },
      "cell_type": "markdown",
      "source": "## Simple visualisations of data distribution"
    },
    {
      "metadata": {
        "trusted": true,
        "_uuid": "805c7d6718c7d222fba01c57403d06c0e2338081",
        "_kg_hide-input": true
      },
      "cell_type": "code",
      "source": "sns.barplot(x=\"Sex\", y=\"Survived\", data=data)\nplt.title(\"Proportion of male/female that survived\");",
      "execution_count": null,
      "outputs": []
    },
    {
      "metadata": {
        "trusted": true,
        "_uuid": "ddbd15a2a33ee22b0738b47c4d093b40a437dc24",
        "_kg_hide-input": true
      },
      "cell_type": "code",
      "source": "sns.violinplot(x=\"Sex\", y=\"Age\", hue=\"Survived\", data=data)\nplt.title('Ages of males/females that survived');",
      "execution_count": null,
      "outputs": []
    },
    {
      "metadata": {
        "trusted": true,
        "_uuid": "8038cb7f086b5495e749451b7588e6cb0ba387fc",
        "_kg_hide-input": true
      },
      "cell_type": "code",
      "source": "fig, ax = plt.subplots(1,2, figsize=(8,3))\nsns.barplot(x=\"Sex\", y=\"Survived\", hue=\"Pclass\", data=data, ax=ax[0])\nsns.barplot(x=\"Sex\", y=\"Survived\", hue=\"Embarked\", data=data, ax=ax[1])\n\nplt.suptitle(\"Proportion of male/female that survived\");",
      "execution_count": null,
      "outputs": []
    },
    {
      "metadata": {
        "_kg_hide-input": true,
        "trusted": true,
        "_uuid": "8e9bb7d2bddbf0dd0b00fe69e7580ad69c9a1b94"
      },
      "cell_type": "code",
      "source": "fig, ax = plt.subplots(1,2, figsize=(8,3))\nsns.barplot(x=\"SibSp\", y=\"Survived\", hue=\"Sex\", data=data, ax=ax[0])\nsns.barplot(x=\"Parch\", y=\"Survived\", hue=\"Sex\", data=data, ax=ax[1])\n\nplt.suptitle(\"Survivors by numbers of siblings/spouses and parents/children\");",
      "execution_count": null,
      "outputs": []
    },
    {
      "metadata": {
        "trusted": true,
        "_uuid": "9fd46363400c8a3927907a08ddb463a7b4ba1485",
        "collapsed": true
      },
      "cell_type": "markdown",
      "source": "## Summary of exploration findings\n\n* Target class is imbalanced `Survived \t {0: 549, 1: 342}`\n* Sex appears to be a highly predictive variable at first glance\n* Cabin missing many values - discard\n* Age missing approx 1/4 of values - could impute using nearest neighbours method"
    },
    {
      "metadata": {
        "_uuid": "25dfedab3060125e77af5a24e3758a13b45fd5a0"
      },
      "cell_type": "markdown",
      "source": "## Feature engineering"
    },
    {
      "metadata": {
        "trusted": true,
        "_uuid": "b1195f4f903130e915e0606577e2e8ed8cb88b77"
      },
      "cell_type": "code",
      "source": "salutation = data.Name.apply(lambda x: x.split(',')[1].split()[0])\nprint(dict(salutation.value_counts()))",
      "execution_count": null,
      "outputs": []
    },
    {
      "metadata": {
        "trusted": true,
        "_uuid": "66c124522031c8afa62a1931bc3834d2dc33617e"
      },
      "cell_type": "code",
      "source": "",
      "execution_count": null,
      "outputs": []
    },
    {
      "metadata": {
        "_uuid": "f6f12b9934151cb62f4754d6dc11fd924f65f5c8"
      },
      "cell_type": "markdown",
      "source": "# Data Preparation"
    },
    {
      "metadata": {
        "trusted": true,
        "_uuid": "60cfdf6cbf324a08129ff402f151789b3a628a3f"
      },
      "cell_type": "code",
      "source": "import fancyimpute",
      "execution_count": null,
      "outputs": []
    },
    {
      "metadata": {
        "trusted": true,
        "_uuid": "21bfce8d2b83ff5195525c72d610a31b5594a660"
      },
      "cell_type": "code",
      "source": "from sklearn import preprocessing\n# from sklearn.impute import MICEImputer\nfrom sklearn.impute import SimpleImputer\nfrom sklearn.model_selection import train_test_split",
      "execution_count": null,
      "outputs": []
    },
    {
      "metadata": {
        "_uuid": "b71bf8ffaa03185acd2b458e9251a56618432327"
      },
      "cell_type": "markdown",
      "source": "Convert categorical variables to integer representation[](http://)"
    },
    {
      "metadata": {
        "trusted": true,
        "_uuid": "fe68e375160474b55529702b9d051bf0b7b0268d"
      },
      "cell_type": "code",
      "source": "categorical_variables = [\n    'Pclass',\n    'Sex',\n    'Embarked',\n    'Salutation'\n]",
      "execution_count": null,
      "outputs": []
    },
    {
      "metadata": {
        "trusted": true,
        "_uuid": "4e37b77a31f489393fc020a0d664ccbc2433c2af"
      },
      "cell_type": "code",
      "source": "continuous_variables = [\n    'Age_imp',\n    'SibSp',\n    'Parch',\n    'Fare'\n]",
      "execution_count": null,
      "outputs": []
    },
    {
      "metadata": {
        "_uuid": "25750c7665a366f8c9187208963e0e61d10604de"
      },
      "cell_type": "markdown",
      "source": "The data are transformed as follows:\n* Categorical variables are first encoded to numerical labels then OHE'ed\n* The missing Age values are imputed using the MICE technique\n* Continuous variables are standard-scaled"
    },
    {
      "metadata": {
        "trusted": true,
        "_uuid": "9401d47f8ebf1e335c03333b39e43d57002558d2"
      },
      "cell_type": "code",
      "source": "_Xtrain, _Xtest, Ytrain, Ytest = train_test_split(data.drop('Survived', axis=1), data['Survived'], \n    stratify = data['Survived'], \n    test_size=0.2, \n    random_state=0\n)",
      "execution_count": null,
      "outputs": []
    },
    {
      "metadata": {
        "trusted": true,
        "_uuid": "9f4fd05a97cedf3445af5fc11e0b67f4cc279eaf"
      },
      "cell_type": "code",
      "source": "class Titanic:\n    \n    def __init__(self, data, categorical, continuous):\n        '''\n        data: pd.DataFrame\n            raw input from given csv\n        categorical: list \n            categorical variables (col names)\n        continuous: list\n            continuous variables (col names)\n        '''\n        \n        self.categorical = categorical\n        self.continuous = continuous\n        \n        self.cat_encoder, self.imputer, self.scaler = self.fit(data)\n\n    def fit(self, data):\n        data = self._preprocess(data)\n        \n        cat_encoder = self._fit_encoder(data) \n        df_cat = self.transform_categories(data, cat_encoder)\n        \n        # imputation must come after cat encoder as it uses the ohe variables \n        imputer = self._fit_imputer(data, df_cat) \n        df_cts = self._transform_imputer(data, df_cat, imputer)\n        \n        # scaler must come after imputer as it uses imputed cts values\n        scaler = self._fit_scaler(df_cts)  \n        \n        return cat_encoder, imputer, scaler\n        \n    def _preprocess(self, data):\n        data = data.dropna(axis=0, subset=[c for c in self.continuous if 'imp' not in c], how='any')\n        data['Salutation'] = data['Name'].apply(lambda x: x.split(',')[1].split()[0])\n        return data\n    \n    def _fit_encoder(self, data):\n        \n        def _fit_safe_encoder(var):\n            # a hack to deal with unseen values in test dataset\n            enc = preprocessing.LabelEncoder()\n            # we drop one of the known classes since the information is duplicated\n            classes = data[var][data[var].notnull()].apply(str).unique()\n            # we add one class for unknown or null items\n            classes = np.append(classes, 'NA')\n            enc.fit(classes) \n            return enc \n        \n        return { \n            var : _fit_safe_encoder(var)\n            for var in self.categorical \n        }\n    \n    def _encode_cat(self, data, cat_encoder):   \n        # turns categories into numerical labels 0, 1, 2...\n        def _transform_safe_encode(var):\n            # a hack to deal with unseen values in test dataset\n            enc = cat_encoder[var]\n            x = data[var].apply(str)\n            x[(~x.isin(enc.classes_)) | (x.isnull())] = 'NA'\n            return enc.transform(x)\n            \n        return pd.DataFrame({var: _transform_safe_encode(var) for var in cat_encoder.keys()})\n\n    def _ohe(self, data):\n        # OHE the categories\n        return pd.get_dummies(data, columns=data.columns)\n\n    def transform_categories(self, data, cat_encoder):\n        df_ohe = self._ohe(self._encode_cat(data, cat_encoder))\n        # add missing OHE categories\n        all_cats = [f'{var}_{i}' for var in cat_encoder.keys() for i, c in enumerate(cat_encoder[var].classes_)]\n        missing_cats = np.setdiff1d(all_cats, df_ohe.columns)\n        for cat in missing_cats:\n            df_ohe[cat] = 0\n        return df_ohe\n    \n    def _prepare_impute_df(self, data, df_cat):\n        return pd.concat([df_cat, data[['SibSp','Parch','Fare']], data['Age']], axis=1, ignore_index=True)\n    \n    def _fit_imputer(self, data, df_cat):\n        imp = SimpleImputer(strategy='median')\n        imp.fit(self._prepare_impute_df(data.reset_index(drop=True), df_cat.reset_index(drop=True)))\n        return imp\n    \n    def _transform_imputer(self, data, df_cat, imputer):\n        _d = self._prepare_impute_df(data.reset_index(drop=True), df_cat.reset_index(drop=True))\n        data['Age_imp'] = imputer.transform(_d)[:,-1]\n        return data\n            \n    def _fit_scaler(self, data):\n        scaler = preprocessing.StandardScaler()\n        scaler.fit(data[self.continuous])\n        return scaler\n        \n    def transform_continuous(self, data, df_cat, imputer, scaler):\n        df_cts = self._transform_imputer(data, df_cat, imputer)\n        return pd.DataFrame(scaler.transform(df_cts[self.continuous]), columns=self.continuous)\n    \n    def transform(self, data):\n        data = self._preprocess(data)\n        df_cat = self.transform_categories(data, self.cat_encoder)\n        \n        df_cts = self.transform_continuous(data, df_cat, self.imputer, self.scaler)\n        df = pd.concat([df_cat, df_cts], axis=1)\n        return df[sorted(df.columns)]",
      "execution_count": null,
      "outputs": []
    },
    {
      "metadata": {
        "trusted": true,
        "_uuid": "6916148fc48da54ecbad12e3d24399d922e85211"
      },
      "cell_type": "code",
      "source": "titanic = Titanic(_Xtrain, categorical_variables, continuous_variables)\ntitanic.cat_encoder['Sex'].classes_",
      "execution_count": null,
      "outputs": []
    },
    {
      "metadata": {
        "trusted": true,
        "_uuid": "5615ea68d4a4cf986e54055c5488192e69160770"
      },
      "cell_type": "code",
      "source": "Xtrain = titanic.transform(_Xtrain)\nXtrain.head()",
      "execution_count": null,
      "outputs": []
    },
    {
      "metadata": {
        "trusted": true,
        "_uuid": "69bdff689837a43bd354d559cda3d1afce629310"
      },
      "cell_type": "code",
      "source": "Xtest = titanic.transform(_Xtest)\nXtest[sorted(Xtest.columns)].head()",
      "execution_count": null,
      "outputs": []
    },
    {
      "metadata": {
        "trusted": true,
        "_uuid": "8e7944dba07364027ccd15e183a7a4286e807b63"
      },
      "cell_type": "code",
      "source": "Xtrain_unscaled = pd.DataFrame(titanic.scaler.inverse_transform(Xtrain[continuous_variables]), columns=continuous_variables)\nXtest_unscaled = pd.DataFrame(titanic.scaler.inverse_transform(Xtest[continuous_variables]), columns=continuous_variables)\nXtrain_unscaled.head()",
      "execution_count": null,
      "outputs": []
    },
    {
      "metadata": {
        "trusted": true,
        "_uuid": "79e18a71bc811a832d4c3f3c02bff9c5aaa4453f"
      },
      "cell_type": "code",
      "source": "fig, ax = plt.subplots(1,2, figsize=(8,3))\nplt_kwargs = dict(bins=np.linspace(0,100,10), kde=False, norm_hist=True)\n\nsns.distplot(_Xtrain.Age[~_Xtrain.Age.isnull()], **{**dict(label='Age'), **plt_kwargs}, ax=ax[0])\nsns.distplot(Xtrain_unscaled.Age_imp.values[_Xtrain.Age.isnull()], **{**dict(label='Imputed Age'), **plt_kwargs}, ax=ax[0])\nax[0].set(xlabel='Age', title='Distribution of given and imputed ages')\n\nsns.distplot(_Xtest.Age[~_Xtest.Age.isnull()], **{**dict(label='Age'), **plt_kwargs}, ax=ax[1])\nsns.distplot(Xtest_unscaled.Age_imp.values[_Xtest.Age.isnull()], **{**dict(label='Imputed Age'), **plt_kwargs}, ax=ax[1])\nax[1].set(xlabel='Age', title='Distribution of given and imputed ages')\n\nplt.legend()",
      "execution_count": null,
      "outputs": []
    },
    {
      "metadata": {
        "_uuid": "57a56ebacd7a9689562e182ee6e16a400f050ebd"
      },
      "cell_type": "markdown",
      "source": "# Training"
    },
    {
      "metadata": {
        "trusted": true,
        "_uuid": "d340f0a02babe070ac12861b8b2d4479ccb369c0"
      },
      "cell_type": "code",
      "source": "from sklearn.ensemble import RandomForestClassifier\nfrom sklearn import metrics",
      "execution_count": null,
      "outputs": []
    },
    {
      "metadata": {
        "trusted": true,
        "_uuid": "264208684c596ecdddc397018d3d4d561fe0dc38"
      },
      "cell_type": "code",
      "source": "pos_weight = len(Ytrain)/Ytrain.sum()\npos_weight",
      "execution_count": null,
      "outputs": []
    },
    {
      "metadata": {
        "_uuid": "d00e113901ae91665302f7cc79788f32bac2dc0d"
      },
      "cell_type": "markdown",
      "source": "Random Forest Classifier (scikit-learn)"
    },
    {
      "metadata": {
        "trusted": true,
        "_uuid": "2f2cf911bac8039d534af11957cf98f35e023c37"
      },
      "cell_type": "code",
      "source": "clf = RandomForestClassifier()\nclf.fit(Xtrain, Ytrain)\nYpred = clf.predict(Xtest)\nYprob_rf = clf.predict_proba(Xtest)\nprint(metrics.classification_report(Ytest, Ypred))\nprint(metrics.accuracy_score(Ytest, Ypred))\nax = sns.heatmap(metrics.confusion_matrix(Ytest, Ypred), annot=True, fmt='.0f', cmap='Blues')\nax.set(xlabel='True', ylabel='Predicted', title='Confusion matrix');",
      "execution_count": null,
      "outputs": []
    },
    {
      "metadata": {
        "trusted": true,
        "_uuid": "d8856d3fcf454da2f1d83d84376440040e60329a"
      },
      "cell_type": "code",
      "source": "Xtrain.columns[np.argsort(clf.feature_importances_)[::-1]]",
      "execution_count": null,
      "outputs": []
    },
    {
      "metadata": {
        "_uuid": "2a5895336200f5c260dc35248c580ddf7513edf2"
      },
      "cell_type": "markdown",
      "source": "XGBoost BDT Classifier"
    },
    {
      "metadata": {
        "trusted": true,
        "_uuid": "6e78c820431d5d9a25250e3486c62b0107e791ab"
      },
      "cell_type": "code",
      "source": "xgb = xgboost.XGBClassifier(scale_pos_weight=pos_weight, n_estimators=500, max_depth=3, colsample_bytree=0.9)\nxgb.fit(Xtrain, Ytrain)\nYpred = xgb.predict(Xtest)\nYprob_xgb = xgb.predict_proba(Xtest)\nprint(metrics.classification_report(Ytest, Ypred))\nprint(metrics.accuracy_score(Ytest, Ypred))\nax = sns.heatmap(metrics.confusion_matrix(Ytest, Ypred), annot=True, fmt='.0f', cmap='Blues')\nax.set(xlabel='True', ylabel='Predicted', title='Confusion matrix');",
      "execution_count": null,
      "outputs": []
    },
    {
      "metadata": {
        "trusted": true,
        "_uuid": "7d843ecbac820588fad69503790d00336f35a1f8"
      },
      "cell_type": "code",
      "source": "",
      "execution_count": null,
      "outputs": []
    },
    {
      "metadata": {
        "trusted": true,
        "_uuid": "cf605c47749e485dd9274b2a8ddd6d62240889a8"
      },
      "cell_type": "code",
      "source": "",
      "execution_count": null,
      "outputs": []
    }
  ],
  "metadata": {
    "language_info": {
      "name": "python",
      "version": "3.6.6",
      "mimetype": "text/x-python",
      "codemirror_mode": {
        "name": "ipython",
        "version": 3
      },
      "pygments_lexer": "ipython3",
      "nbconvert_exporter": "python",
      "file_extension": ".py"
    },
    "kernelspec": {
      "display_name": "Python 3",
      "language": "python",
      "name": "python3"
    }
  },
  "nbformat": 4,
  "nbformat_minor": 1
}